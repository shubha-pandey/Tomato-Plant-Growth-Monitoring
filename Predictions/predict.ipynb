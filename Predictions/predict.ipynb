{
 "cells": [
  {
   "cell_type": "markdown",
   "metadata": {},
   "source": [
    "Simple CNN Model Prediction"
   ]
  },
  {
   "cell_type": "code",
   "execution_count": null,
   "metadata": {},
   "outputs": [],
   "source": [
    "#import libraries\n",
    "from tensorflow.keras.models import load_model\n",
    "import numpy as np\n",
    "import cv2 as cv"
   ]
  },
  {
   "cell_type": "code",
   "execution_count": null,
   "metadata": {},
   "outputs": [
    {
     "name": "stdout",
     "output_type": "stream",
     "text": [
      "Model loaded successfully!\n"
     ]
    }
   ],
   "source": [
    "# Load the trained model\n",
    "model_path = r\"D:\\Tomato Plant Growth Monitoring Project\\tomato_model2_results\\Models\\fine_tuned_tomato_classifier.keras\"\n",
    "model = load_model(model_path)\n",
    "print(\"Model loaded successfully!\")"
   ]
  },
  {
   "cell_type": "code",
   "execution_count": 6,
   "metadata": {},
   "outputs": [],
   "source": [
    "# Load class labels\n",
    "label_to_index = { \"flowering\": 0, \"raw\": 1, \"ripe\": 2, \"semi-ripe\": 3 }  # Update with your labels\n",
    "index_to_label = {v: k for k, v in label_to_index.items()}"
   ]
  },
  {
   "cell_type": "code",
   "execution_count": 4,
   "metadata": {},
   "outputs": [],
   "source": [
    "def preprocess_image(img_path, img_size=(224, 224)):\n",
    "    img = cv.imread(img_path)\n",
    "    if img is None:\n",
    "        print(f\"Error loading image: {img_path}\")\n",
    "        return None\n",
    "    img = cv.resize(img, img_size)\n",
    "    img = img / 255.0  # Normalize\n",
    "    img = np.expand_dims(img, axis=0)  # Expand for batch processing\n",
    "    return img"
   ]
  },
  {
   "cell_type": "code",
   "execution_count": 7,
   "metadata": {},
   "outputs": [
    {
     "name": "stdout",
     "output_type": "stream",
     "text": [
      "\u001b[1m1/1\u001b[0m \u001b[32m━━━━━━━━━━━━━━━━━━━━\u001b[0m\u001b[37m\u001b[0m \u001b[1m0s\u001b[0m 155ms/step\n",
      "Predicted: semi-ripe with 0.95 confidence.\n"
     ]
    }
   ],
   "source": [
    "# Example: Predict an image\n",
    "test_img_path = \"D:/Project1/Dataset0/New folder/Raw, Half-Ripe, Ripe/0675.jpg\"\n",
    "img = preprocess_image(test_img_path)\n",
    "\n",
    "if img is not None:\n",
    "    prediction = model.predict(img)\n",
    "    predicted_class = np.argmax(prediction)\n",
    "    confidence = prediction[0][predicted_class]\n",
    "    print(f\"Predicted: {index_to_label[predicted_class]} with {confidence:.2f} confidence.\")"
   ]
  }
 ],
 "metadata": {
  "kernelspec": {
   "display_name": "Python 3",
   "language": "python",
   "name": "python3"
  },
  "language_info": {
   "codemirror_mode": {
    "name": "ipython",
    "version": 3
   },
   "file_extension": ".py",
   "mimetype": "text/x-python",
   "name": "python",
   "nbconvert_exporter": "python",
   "pygments_lexer": "ipython3",
   "version": "3.11.9"
  }
 },
 "nbformat": 4,
 "nbformat_minor": 2
}
